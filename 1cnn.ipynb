{
  "nbformat": 4,
  "nbformat_minor": 0,
  "metadata": {
    "colab": {
      "provenance": [],
      "authorship_tag": "ABX9TyMqiRbi1z5zqFAXDym3GFqV",
      "include_colab_link": true
    },
    "kernelspec": {
      "name": "python3",
      "display_name": "Python 3"
    },
    "language_info": {
      "name": "python"
    }
  },
  "cells": [
    {
      "cell_type": "markdown",
      "metadata": {
        "id": "view-in-github",
        "colab_type": "text"
      },
      "source": [
        "<a href=\"https://colab.research.google.com/github/AyaHeshaam/SteganalysisTool/blob/main/1cnn.ipynb\" target=\"_parent\"><img src=\"https://colab.research.google.com/assets/colab-badge.svg\" alt=\"Open In Colab\"/></a>"
      ]
    },
    {
      "cell_type": "code",
      "execution_count": 34,
      "metadata": {
        "id": "4Ts1WOKMXMFD"
      },
      "outputs": [],
      "source": [
        "import os\n",
        "import cv2\n",
        "import numpy as np\n",
        "from tensorflow.keras import layers, models\n",
        "from tensorflow.keras.preprocessing.image import ImageDataGenerator\n",
        "from sklearn.utils.class_weight import compute_class_weight\n",
        "\n"
      ]
    },
    {
      "cell_type": "code",
      "source": [
        "!pip install -U scikit-learn\n",
        "\n"
      ],
      "metadata": {
        "id": "GJQzyQmmkKmj",
        "outputId": "e0f11e6c-bba6-4930-8d0f-1369fa1c73d7",
        "colab": {
          "base_uri": "https://localhost:8080/"
        }
      },
      "execution_count": 35,
      "outputs": [
        {
          "output_type": "stream",
          "name": "stdout",
          "text": [
            "Requirement already satisfied: scikit-learn in /usr/local/lib/python3.10/dist-packages (1.3.2)\n",
            "Requirement already satisfied: numpy<2.0,>=1.17.3 in /usr/local/lib/python3.10/dist-packages (from scikit-learn) (1.23.5)\n",
            "Requirement already satisfied: scipy>=1.5.0 in /usr/local/lib/python3.10/dist-packages (from scikit-learn) (1.11.4)\n",
            "Requirement already satisfied: joblib>=1.1.1 in /usr/local/lib/python3.10/dist-packages (from scikit-learn) (1.3.2)\n",
            "Requirement already satisfied: threadpoolctl>=2.0.0 in /usr/local/lib/python3.10/dist-packages (from scikit-learn) (3.2.0)\n"
          ]
        }
      ]
    },
    {
      "cell_type": "code",
      "source": [
        "from google.colab import drive\n",
        "drive.mount('/content/drive')"
      ],
      "metadata": {
        "colab": {
          "base_uri": "https://localhost:8080/"
        },
        "id": "EMPdkGKhXUoP",
        "outputId": "c6de1804-41ed-4773-835e-c5910b3a6598"
      },
      "execution_count": 36,
      "outputs": [
        {
          "output_type": "stream",
          "name": "stdout",
          "text": [
            "Drive already mounted at /content/drive; to attempt to forcibly remount, call drive.mount(\"/content/drive\", force_remount=True).\n"
          ]
        }
      ]
    },
    {
      "cell_type": "code",
      "source": [
        "def load_images(directory):\n",
        "    images = []\n",
        "    labels = []\n",
        "    for label, folder in enumerate(['cover', 'stego']):\n",
        "        path = os.path.join(directory, folder)\n",
        "        for filename in os.listdir(path):\n",
        "            if filename.endswith('.pgm'):\n",
        "                img_path = os.path.join(path, filename)\n",
        "                img = cv2.imread(img_path, cv2.IMREAD_UNCHANGED)  # BOSSBASE dataset is already in b/w\n",
        "                images.append(img)\n",
        "                labels.append(label)\n",
        "    return np.array(images), np.array(labels)\n",
        "\n",
        "# Load the train and test data\n",
        "train_directory = '/content/drive/MyDrive/GradP/bossbase_toy_dataset/train'\n",
        "val_directory = '/content/drive/MyDrive/GradP/bossbase_toy_dataset/valid'\n",
        "test_directory = '/content/drive/MyDrive/GradP/bossbase_toy_dataset/test'\n",
        "\n",
        "X_train, y_train = load_images(train_directory)\n",
        "X_val, y_val = load_images(val_directory)\n",
        "X_test, y_test = load_images(test_directory)\n",
        "\n",
        "\n",
        "\n",
        "X_train, X_val, X_test = X_train / 255.0, X_val / 255.0, X_test / 255.0 #--> for normalization"
      ],
      "metadata": {
        "id": "LAyte6meXcLX"
      },
      "execution_count": 37,
      "outputs": []
    },
    {
      "cell_type": "code",
      "source": [
        "print(\"Training set distribution:\", np.bincount(y_train)) #had same outputs due to imbalanced training and validation\n",
        "print(\"Validation set distribution:\", np.bincount(y_val))"
      ],
      "metadata": {
        "colab": {
          "base_uri": "https://localhost:8080/"
        },
        "id": "QVRAMEgQiRYY",
        "outputId": "fee14bcc-4fb2-4f28-ff8b-41097017aaca"
      },
      "execution_count": 38,
      "outputs": [
        {
          "output_type": "stream",
          "name": "stdout",
          "text": [
            "Training set distribution: [20 20]\n",
            "Validation set distribution: [10 10]\n"
          ]
        }
      ]
    },
    {
      "cell_type": "code",
      "source": [
        "# initial CNN\n",
        "model = models.Sequential()\n",
        "model.add(layers.Conv2D(32, (3, 3), activation='relu', input_shape=(256,256, 1)))\n",
        "model.add(layers.MaxPooling2D((2, 2)))\n",
        "model.add(layers.Conv2D(64, (3, 3), activation='relu'))\n",
        "model.add(layers.MaxPooling2D((2, 2)))\n",
        "model.add(layers.Conv2D(64, (3, 3), activation='relu'))\n",
        "model.add(layers.Flatten())\n",
        "model.add(layers.Dense(64, activation='relu'))\n",
        "model.add(layers.Dense(1, activation='sigmoid'))\n",
        "\n",
        "#3ashan nebdaa el model\n",
        "model.compile(optimizer='adam',\n",
        "              loss='binary_crossentropy',\n",
        "              metrics=['accuracy'])\n",
        "\n",
        "\n",
        "\n",
        "\n",
        "#datagen = ImageDataGenerator(rotation_range=10, width_shift_range=0.1, height_shift_range=0.1, zoom_range=0.1) --> still same results\n",
        "#datagen.fit(X_train)\n",
        "\n",
        "# t+v\n",
        "model.fit(X_train, y_train, epochs=12, validation_data=(X_val, y_val))\n",
        "\n",
        "# Evaluation\n",
        "test_loss, test_acc = model.evaluate(X_test, y_test)\n",
        "\n",
        "\n",
        "model.save('1cnn.keras')"
      ],
      "metadata": {
        "id": "EQsIbNl8Ygfr",
        "colab": {
          "base_uri": "https://localhost:8080/"
        },
        "outputId": "bc4db70e-2c4d-4bc3-e9c7-3c6554174ce4"
      },
      "execution_count": 39,
      "outputs": [
        {
          "output_type": "stream",
          "name": "stdout",
          "text": [
            "Epoch 1/12\n",
            "2/2 [==============================] - 9s 2s/step - loss: 0.8840 - accuracy: 0.4250 - val_loss: 1.9416 - val_accuracy: 0.5000\n",
            "Epoch 2/12\n",
            "2/2 [==============================] - 5s 2s/step - loss: 1.5134 - accuracy: 0.5000 - val_loss: 0.7037 - val_accuracy: 0.5000\n",
            "Epoch 3/12\n",
            "2/2 [==============================] - 7s 2s/step - loss: 0.7197 - accuracy: 0.4000 - val_loss: 0.6956 - val_accuracy: 0.5000\n",
            "Epoch 4/12\n",
            "2/2 [==============================] - 5s 2s/step - loss: 0.6964 - accuracy: 0.5000 - val_loss: 0.6937 - val_accuracy: 0.5000\n",
            "Epoch 5/12\n",
            "2/2 [==============================] - 5s 2s/step - loss: 0.6946 - accuracy: 0.5000 - val_loss: 0.6932 - val_accuracy: 0.5000\n",
            "Epoch 6/12\n",
            "2/2 [==============================] - 7s 2s/step - loss: 0.6941 - accuracy: 0.4250 - val_loss: 0.6932 - val_accuracy: 0.5000\n",
            "Epoch 7/12\n",
            "2/2 [==============================] - 5s 2s/step - loss: 0.6933 - accuracy: 0.5000 - val_loss: 0.6931 - val_accuracy: 0.5000\n",
            "Epoch 8/12\n",
            "2/2 [==============================] - 6s 3s/step - loss: 0.6932 - accuracy: 0.5000 - val_loss: 0.6931 - val_accuracy: 0.5000\n",
            "Epoch 9/12\n",
            "2/2 [==============================] - 7s 2s/step - loss: 0.6933 - accuracy: 0.5000 - val_loss: 0.6932 - val_accuracy: 0.5000\n",
            "Epoch 10/12\n",
            "2/2 [==============================] - 7s 2s/step - loss: 0.6932 - accuracy: 0.5000 - val_loss: 0.6932 - val_accuracy: 0.5000\n",
            "Epoch 11/12\n",
            "2/2 [==============================] - 7s 2s/step - loss: 0.6932 - accuracy: 0.5000 - val_loss: 0.6932 - val_accuracy: 0.5000\n",
            "Epoch 12/12\n",
            "2/2 [==============================] - 5s 2s/step - loss: 0.6932 - accuracy: 0.5000 - val_loss: 0.6932 - val_accuracy: 0.5000\n",
            "1/1 [==============================] - 1s 608ms/step - loss: 0.6932 - accuracy: 0.5000\n"
          ]
        }
      ]
    },
    {
      "cell_type": "code",
      "source": [
        "#trial 1 with residual learning\n",
        "def residual_block(x, filters, kernel_size=3, activation='relu'):\n",
        "    shortcut = x\n",
        "\n",
        "    #awel CNN\n",
        "    x = layers.Conv2D(filters, kernel_size, padding='same')(x)\n",
        "    x = layers.Activation(activation)(x)\n",
        "\n",
        "    # Second convolutional layer\n",
        "    x = layers.Conv2D(filters, kernel_size, padding='same')(x)\n",
        "\n",
        "    # Adjust shortcut dimension if needed\n",
        "    if shortcut.shape[-1] != filters:\n",
        "        shortcut = layers.Conv2D(filters, (1, 1), padding='same')(shortcut)\n",
        "\n",
        "    # Add shortcut to the output\n",
        "    x = layers.Add()([x, shortcut])\n",
        "    x = layers.Activation(activation)(x)\n",
        "\n",
        "    return x\n",
        "\n",
        "\n",
        "def residual_block(inputs, filters, strides):\n",
        "    shortcut = inputs\n",
        "    x = Conv2D(filters, (3, 3), strides=strides, padding='same')(inputs)\n",
        "    x = BatchNormalization()(x)\n",
        "    x = ReLU()(x)\n",
        "    x = Conv2D(filters, (3, 3), strides=1, padding='same')(x)\n",
        "    x = BatchNormalization()(x)\n",
        "    x = Add()([shortcut, x])\n",
        "    x = ReLU()(x)\n",
        "    return x\n",
        "def steganalysis_cnn(input_shape):\n",
        "    inputs = Input(input_shape)\n",
        "    x = Conv2D(64, (3, 3), strides=1, padding='same')(inputs)\n",
        "    x = BatchNormalization()(x)\n",
        "    x = ReLU()(x)\n",
        "    x = Conv2D(64, (3, 3), strides=1, padding='same')(x)\n",
        "    x = BatchNormalization()(x)\n",
        "    x = ReLU()(x)\n",
        "    x = residual_block(x, 64, 1)\n",
        "    x = Conv2D(128, (3, 3), strides=2, padding='same')(x)\n",
        "    x = BatchNormalization()(x)\n",
        "    x = ReLU()(x)\n",
        "    x = residual_block(x, 128, 1)\n",
        "    x = Conv2D(256, (3, 3), strides=2, padding='same')(x)\n",
        "    x = BatchNormalization()(x)\n",
        "    x = ReLU()(x)\n",
        "    x = residual_block(x, 256, 1)\n",
        "    x = Conv2D(512, (3, 3), strides=2, padding='same')(x)\n",
        "    x = BatchNormalization()(x)\n",
        "    x = ReLU()(x)\n",
        "    x = residual_block(x, 512, 1)\n",
        "    x = GlobalAveragePooling2D()(x)\n",
        "    x = Dense(2, activation='softmax')(x)\n",
        "    model = Model(inputs, x)\n",
        "    return model\n",
        "\n",
        "# Compile the model\n",
        "model.compile(optimizer='adam',\n",
        "              loss='binary_crossentropy',\n",
        "              metrics=['accuracy'])\n",
        "\n",
        "# Train the model with validation\n",
        "model.fit(X_train, y_train, epochs=12, validation_data=(X_val, y_val))\n",
        "\n",
        "# Evaluate the model on the test set\n",
        "test_loss, test_acc = model.evaluate(X_test, y_test)\n",
        "\n",
        "# Save the trained model\n",
        "model.save('residual_cnn.keras')\n"
      ],
      "metadata": {
        "colab": {
          "base_uri": "https://localhost:8080/"
        },
        "id": "vleNFBvdq_xs",
        "outputId": "bfbd5a2d-d7a0-4b3f-9c8d-1d5343e81c30"
      },
      "execution_count": 40,
      "outputs": [
        {
          "output_type": "stream",
          "name": "stdout",
          "text": [
            "Epoch 1/12\n",
            "2/2 [==============================] - 9s 3s/step - loss: 0.6953 - accuracy: 0.5000 - val_loss: 0.6932 - val_accuracy: 0.5000\n",
            "Epoch 2/12\n",
            "2/2 [==============================] - 5s 2s/step - loss: 0.6934 - accuracy: 0.4750 - val_loss: 0.6932 - val_accuracy: 0.5000\n",
            "Epoch 3/12\n",
            "2/2 [==============================] - 5s 2s/step - loss: 0.6942 - accuracy: 0.5000 - val_loss: 0.6932 - val_accuracy: 0.5000\n",
            "Epoch 4/12\n",
            "2/2 [==============================] - 7s 2s/step - loss: 0.6933 - accuracy: 0.4500 - val_loss: 0.6931 - val_accuracy: 0.5000\n",
            "Epoch 5/12\n",
            "2/2 [==============================] - 5s 2s/step - loss: 0.6931 - accuracy: 0.5000 - val_loss: 0.6931 - val_accuracy: 0.5000\n",
            "Epoch 6/12\n",
            "2/2 [==============================] - 6s 3s/step - loss: 0.6931 - accuracy: 0.5000 - val_loss: 0.6931 - val_accuracy: 0.5000\n",
            "Epoch 7/12\n",
            "2/2 [==============================] - 6s 2s/step - loss: 0.6932 - accuracy: 0.5000 - val_loss: 0.6931 - val_accuracy: 0.5000\n",
            "Epoch 8/12\n",
            "2/2 [==============================] - 5s 2s/step - loss: 0.6931 - accuracy: 0.5000 - val_loss: 0.6931 - val_accuracy: 0.5000\n",
            "Epoch 9/12\n",
            "2/2 [==============================] - 7s 3s/step - loss: 0.6931 - accuracy: 0.5000 - val_loss: 0.6931 - val_accuracy: 0.5000\n",
            "Epoch 10/12\n",
            "2/2 [==============================] - 5s 2s/step - loss: 0.6931 - accuracy: 0.5000 - val_loss: 0.6932 - val_accuracy: 0.5000\n",
            "Epoch 11/12\n",
            "2/2 [==============================] - 5s 2s/step - loss: 0.6932 - accuracy: 0.5000 - val_loss: 0.6932 - val_accuracy: 0.5000\n",
            "Epoch 12/12\n",
            "2/2 [==============================] - 7s 2s/step - loss: 0.6932 - accuracy: 0.5000 - val_loss: 0.6932 - val_accuracy: 0.5000\n",
            "1/1 [==============================] - 1s 1s/step - loss: 0.6932 - accuracy: 0.5000\n"
          ]
        }
      ]
    }
  ]
}